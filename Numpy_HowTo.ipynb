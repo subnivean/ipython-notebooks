{
 "metadata": {
  "name": "Numpy_HowTo"
 },
 "nbformat": 3,
 "nbformat_minor": 0,
 "worksheets": [
  {
   "cells": [
    {
     "cell_type": "markdown",
     "metadata": {},
     "source": [
      "## Creating a Zig-Zag List\n",
      "### Uses: Creating a zig-zag toolpath or robot path"
     ]
    },
    {
     "cell_type": "code",
     "collapsed": false,
     "input": [
      "# Note how the list is arranged into 4 'passes', each with 4 [x, y, z] tuples (points)\n",
      "a = array([[[0, 0, 1], [0, 0, 2], [0, 0, 3], [0, 0, 4]],\n",
      "           [[1, 1, 1], [1, 1, 2], [1, 1, 3], [1, 1, 4]],\n",
      "           [[2, 2, 1], [2, 2, 2], [2, 2, 3], [2, 2, 4]],\n",
      "           [[3, 3, 1], [3, 3, 2], [3, 3, 3], [3, 3, 4]]])\n",
      "print a"
     ],
     "language": "python",
     "metadata": {},
     "outputs": [
      {
       "output_type": "stream",
       "stream": "stdout",
       "text": [
        "[[[0 0 1]\n",
        "  [0 0 2]\n",
        "  [0 0 3]\n",
        "  [0 0 4]]\n",
        "\n",
        " [[1 1 1]\n",
        "  [1 1 2]\n",
        "  [1 1 3]\n",
        "  [1 1 4]]\n",
        "\n",
        " [[2 2 1]\n",
        "  [2 2 2]\n",
        "  [2 2 3]\n",
        "  [2 2 4]]\n",
        "\n",
        " [[3 3 1]\n",
        "  [3 3 2]\n",
        "  [3 3 3]\n",
        "  [3 3 4]]]\n"
       ]
      }
     ],
     "prompt_number": 6
    },
    {
     "cell_type": "code",
     "collapsed": false,
     "input": [
      "a[1::2] = a[1::2, -1::-1]\n",
      "print a"
     ],
     "language": "python",
     "metadata": {},
     "outputs": [
      {
       "output_type": "stream",
       "stream": "stdout",
       "text": [
        "[[[0 0 1]\n",
        "  [0 0 2]\n",
        "  [0 0 3]\n",
        "  [0 0 4]]\n",
        "\n",
        " [[1 1 4]\n",
        "  [1 1 3]\n",
        "  [1 1 2]\n",
        "  [1 1 1]]\n",
        "\n",
        " [[2 2 1]\n",
        "  [2 2 2]\n",
        "  [2 2 3]\n",
        "  [2 2 4]]\n",
        "\n",
        " [[3 3 4]\n",
        "  [3 3 3]\n",
        "  [3 3 2]\n",
        "  [3 3 1]]]\n"
       ]
      }
     ],
     "prompt_number": 7
    },
    {
     "cell_type": "code",
     "collapsed": false,
     "input": [],
     "language": "python",
     "metadata": {},
     "outputs": []
    }
   ],
   "metadata": {}
  }
 ]
}