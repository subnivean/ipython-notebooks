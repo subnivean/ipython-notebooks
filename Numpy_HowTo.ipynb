{
 "metadata": {
  "name": "Numpy_HowTo"
 },
 "nbformat": 3,
 "nbformat_minor": 0,
 "worksheets": [
  {
   "cells": [
    {
     "cell_type": "markdown",
     "metadata": {},
     "source": [
      "## Creating a Zig-Zag List\n",
      "### Uses: Creating a zig-zag toolpath or robot path"
     ]
    },
    {
     "cell_type": "code",
     "collapsed": false,
     "input": [
      "# Note how the list is arranged into 4 'passes', each with 4 [x, y, z] tuples (points)\n",
      "a = array([[[0, 0, 1], [0, 0, 2], [0, 0, 3], [0, 0, 4]],\n",
      "           [[1, 1, 1], [1, 1, 2], [1, 1, 3], [1, 1, 4]],\n",
      "           [[2, 2, 1], [2, 2, 2], [2, 2, 3], [2, 2, 4]],\n",
      "           [[3, 3, 1], [3, 3, 2], [3, 3, 3], [3, 3, 4]]])\n",
      "print a"
     ],
     "language": "python",
     "metadata": {},
     "outputs": []
    },
    {
     "cell_type": "code",
     "collapsed": false,
     "input": [
      "a[1::2] = a[1::2, -1::-1]\n",
      "print a"
     ],
     "language": "python",
     "metadata": {},
     "outputs": [
      {
       "output_type": "stream",
       "stream": "stdout",
       "text": [
        "[[[0 0 1]\n",
        "  [0 0 2]\n",
        "  [0 0 3]\n",
        "  [0 0 4]]\n",
        "\n",
        " [[1 1 4]\n",
        "  [1 1 3]\n",
        "  [1 1 2]\n",
        "  [1 1 1]]\n",
        "\n",
        " [[2 2 1]\n",
        "  [2 2 2]\n",
        "  [2 2 3]\n",
        "  [2 2 4]]\n",
        "\n",
        " [[3 3 4]\n",
        "  [3 3 3]\n",
        "  [3 3 2]\n",
        "  [3 3 1]]]\n"
       ]
      }
     ],
     "prompt_number": 7
    },
    {
     "cell_type": "markdown",
     "metadata": {},
     "source": [
      "# Normalizing the Length Of A Vector\n",
      "## (Or 'Setting to unit length')"
     ]
    },
    {
     "cell_type": "code",
     "collapsed": false,
     "input": [
      "a = array([1.0, 2.0, 3.0])\n",
      "a /= a.dot(a)**0.5\n",
      "print a"
     ],
     "language": "python",
     "metadata": {},
     "outputs": [
      {
       "output_type": "stream",
       "stream": "stdout",
       "text": [
        "[ 0.26726124  0.53452248  0.80178373]\n"
       ]
      }
     ],
     "prompt_number": 8
    },
    {
     "cell_type": "code",
     "collapsed": false,
     "input": [
      "a.dot(a)"
     ],
     "language": "python",
     "metadata": {},
     "outputs": [
      {
       "output_type": "pyout",
       "prompt_number": 10,
       "text": [
        "1.0"
       ]
      }
     ],
     "prompt_number": 10
    },
    {
     "cell_type": "markdown",
     "metadata": {},
     "source": [
      "## _Also:_"
     ]
    },
    {
     "cell_type": "code",
     "collapsed": false,
     "input": [
      "a = array([1.0, 2.0, 3.0])\n",
      "a /= sqrt(dot(a, a))\n",
      "print a"
     ],
     "language": "python",
     "metadata": {},
     "outputs": [
      {
       "output_type": "stream",
       "stream": "stdout",
       "text": [
        "[ 0.26726124  0.53452248  0.80178373]\n"
       ]
      }
     ],
     "prompt_number": 11
    },
    {
     "cell_type": "code",
     "collapsed": false,
     "input": [],
     "language": "python",
     "metadata": {},
     "outputs": []
    }
   ],
   "metadata": {}
  }
 ]
}